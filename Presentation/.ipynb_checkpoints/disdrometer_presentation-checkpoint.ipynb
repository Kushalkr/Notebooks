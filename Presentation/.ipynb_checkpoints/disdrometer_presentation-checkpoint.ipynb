{
 "cells": [
  {
   "cell_type": "raw",
   "metadata": {
    "slideshow": {
     "slide_type": "skip"
    }
   },
   "source": [
    "<style type=\"text/css\">\n",
    ".input_prompt, .input_area, .output_prompt {\n",
    "    display:none !important;\n",
    "}\n",
    "\n",
    ".output_png {\n",
    "    display: table-cell;\n",
    "        text-align: center;\n",
    "        vertical-align: middle;\n",
    "}\n",
    "</style>"
   ]
  },
  {
   "cell_type": "code",
   "execution_count": 1,
   "metadata": {
    "collapsed": true,
    "slideshow": {
     "slide_type": "skip"
    }
   },
   "outputs": [],
   "source": [
    "from IPython.display import Image, YouTubeVideo"
   ]
  },
  {
   "cell_type": "markdown",
   "metadata": {
    "slideshow": {
     "slide_type": "slide"
    }
   },
   "source": [
    "# Disdrometers\n",
    "\n",
    "## Kushal Keshavamurthy Raviprakash"
   ]
  },
  {
   "cell_type": "markdown",
   "metadata": {
    "slideshow": {
     "slide_type": "slide"
    }
   },
   "source": [
    "# What is a Disdrometer?\n",
    "\n",
    "* A disdrometer is an instrument used to measure the drop size distribution and velocity of falling hydrometeors. \n",
    "* Some disdrometers can distinguish between rain, graupel, and hail."
   ]
  },
  {
   "cell_type": "markdown",
   "metadata": {
    "slideshow": {
     "slide_type": "fragment"
    }
   },
   "source": [
    "# Uses\n",
    "\n",
    "* They can be used for:\n",
    "    * traffic control\n",
    "    * scientific examination\n",
    "    * airport observation systems, and hydrology. \n",
    "* 2-D video disdrometers can be used to analyze individual snowflakes."
   ]
  },
  {
   "cell_type": "markdown",
   "metadata": {
    "slideshow": {
     "slide_type": "slide"
    }
   },
   "source": [
    "# Disdrometer Setup\n",
    "<img style=\"text-align: center\" src=\"images/disdrometer_setup.jpg\">"
   ]
  },
  {
   "cell_type": "markdown",
   "metadata": {
    "slideshow": {
     "slide_type": "slide"
    }
   },
   "source": [
    "# Types of Disdrometers"
   ]
  },
  {
   "cell_type": "markdown",
   "metadata": {
    "slideshow": {
     "slide_type": "fragment"
    }
   },
   "source": [
    "* Impact or Acoustic Disdrometer\n",
    "* Optical Disdrometer\n",
    "* Video Disdrometer"
   ]
  },
  {
   "cell_type": "markdown",
   "metadata": {
    "slideshow": {
     "slide_type": "subslide"
    }
   },
   "source": [
    "# Impact Disdrometer\n",
    "\n",
    "<img style=\"text-align: center\" src=\"images/impact_disdrometer.jpg\">"
   ]
  },
  {
   "cell_type": "markdown",
   "metadata": {
    "slideshow": {
     "slide_type": "subslide"
    }
   },
   "source": [
    "# Optical Disdrometer\n",
    "\n",
    "<img style=\"text-align: center\" src=\"images/optical_disdrometer.png\">"
   ]
  },
  {
   "cell_type": "markdown",
   "metadata": {
    "slideshow": {
     "slide_type": "slide"
    }
   },
   "source": [
    "# Working\n",
    "\n",
    "## Acoustic Disdrometer\n",
    "\n"
   ]
  },
  {
   "cell_type": "markdown",
   "metadata": {
    "slideshow": {
     "slide_type": "fragment"
    }
   },
   "source": [
    "<img style='text-align: center'src=\"images/Acoustic Disdrometer.jpg\" />"
   ]
  },
  {
   "cell_type": "markdown",
   "metadata": {
    "slideshow": {
     "slide_type": "subslide"
    }
   },
   "source": [
    "# Working\n",
    "\n",
    "## Optical Disdrometer"
   ]
  },
  {
   "cell_type": "markdown",
   "metadata": {
    "slideshow": {
     "slide_type": "fragment"
    }
   },
   "source": [
    "<img style=\"text-align: center\" src=\"images/Optical Disdrometer.jpg\" />"
   ]
  },
  {
   "cell_type": "markdown",
   "metadata": {
    "slideshow": {
     "slide_type": "slide"
    }
   },
   "source": [
    "# Relevance to Thermodynamics\n",
    "\n",
    "* Measures Rainfall amount exactly -> Correction for Radars.\n",
    "* Measures Size and type of precipitation -> Cloud Characteristics.\n",
    "* Helps in improving forecasts."
   ]
  },
  {
   "cell_type": "markdown",
   "metadata": {
    "slideshow": {
     "slide_type": "slide"
    }
   },
   "source": [
    "# References\n",
    "\n",
    "* [Low cost disdrometer, Stijn di Jong, TU Delft](http://www.citg.tudelft.nl/fileadmin/Faculteit/CiTG/Over_de_faculteit/Afdelingen/Afdeling_watermanagement/Secties/waterhuishouding/Leerstoelen/Waterbeheer/onderzoek/Projects/Msc_Research/Completed/000_Jong,_S.A.P._de/doc/101207Disdrometer.pdf)\n",
    "* [https://pmm.nasa.gov/category/keywords/disdrometer](https://pmm.nasa.gov/category/keywords/disdrometer)\n",
    "* [https://en.wikipedia.org/wiki/Disdrometer](https://en.wikipedia.org/wiki/Disdrometer)\n",
    "\n",
    "# Video Links\n",
    "* [Introduction to Disdrometers](https://vimeo.com/9861819)\n",
    "* [Why do Raindrop Sizes matter?](https://youtu.be/HsleJV32zDo)"
   ]
  }
 ],
 "metadata": {
  "celltoolbar": "Slideshow",
  "kernelspec": {
   "display_name": "Python 2",
   "language": "python",
   "name": "python2"
  },
  "language_info": {
   "codemirror_mode": {
    "name": "ipython",
    "version": 2
   },
   "file_extension": ".py",
   "mimetype": "text/x-python",
   "name": "python",
   "nbconvert_exporter": "python",
   "pygments_lexer": "ipython2",
   "version": "2.7.13"
  }
 },
 "nbformat": 4,
 "nbformat_minor": 2
}
